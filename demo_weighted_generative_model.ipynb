{
 "cells": [
  {
   "cell_type": "markdown",
   "metadata": {},
   "source": [
    "# Demo of a weighted generative model\n",
    "An example weighted generative model implementation\n",
    "\n",
    "- Global optimisation works, but we must tune the nature of how it prunes or strengthens\n",
    "- Must do step-wise gradient descent and slowly update the communication"
   ]
  },
  {
   "cell_type": "code",
   "execution_count": 7,
   "metadata": {},
   "outputs": [],
   "source": [
    "# weighted_genereative_model conda environment\n",
    "# import requirements\n",
    "import os\n",
    "import numpy as np\n",
    "import scipy\n",
    "from scipy import optimize\n",
    "import tensorflow as tf\n",
    "import networkx as nx\n",
    "import bct as bctpy\n",
    "import matplotlib.pyplot as plt\n",
    "import pylab\n",
    "import copy\n",
    "import random\n",
    "from mpl_toolkits.mplot3d import Axes3D\n",
    "import brainconn as bct"
   ]
  },
  {
   "cell_type": "code",
   "execution_count": 8,
   "metadata": {},
   "outputs": [],
   "source": [
    "# set network variables\n",
    "nnode = 20 # number of nodes\n",
    "xnode = 5 # x axis\n",
    "ynode = 2 # y axis\n",
    "znode = 2 # z axis\n",
    "# compute inputs\n",
    "Wtgt = np.tril(np.random.randint(0,100,(nnode,nnode)),-1)\n",
    "Wtgt = (Wtgt+Wtgt.T)\n",
    "threshold, upper, lower = 90,1,0\n",
    "Atgt = np.where(Wtgt>threshold,upper,lower)\n",
    "Aseed = np.zeros((nnode,nnode)) # seed the seed as a random edge that exists\n",
    "#ind = np.argwhere(Atgt)\n",
    "#indedge = ind[random.randrange(len(ind)),:]\n",
    "#Aseed[indedge[0],indedge[1]] = Aseed[indedge[1],indedge[0]] = 1\n",
    "x = np.arange(xnode) # set the x axis\n",
    "y = np.arange(ynode) # set the y axis\n",
    "z = np.arange(znode) # set the z axis\n",
    "c = np.array(np.meshgrid(x,y,z)).T.reshape(-1,3) # placed in a grid\n",
    "d = scipy.spatial.distance.pdist(c)\n",
    "D = scipy.spatial.distance.squareform(d) # euclidean distance matrix\n",
    "m = int(np.size(np.where(Atgt.flat))/2) # number of connections\n",
    "eta = np.array([-2]) # eta parameter\n",
    "gamma = np.array([.5]) # gamma parameter\n",
    "model_type = 'matching' # generative model\n",
    "model_var = 'powerlaw' # wiring equation\n",
    "epsilon = 1e-6"
   ]
  },
  {
   "cell_type": "code",
   "execution_count": 9,
   "metadata": {},
   "outputs": [
    {
     "data": {
      "text/plain": [
       "Text(0, 0.5, 'Node')"
      ]
     },
     "execution_count": 9,
     "metadata": {},
     "output_type": "execute_result"
    },
    {
     "data": {
      "image/png": "[encoded data removed]",
      "text/plain": [
       "<Figure size 432x288 with 2 Axes>"
      ]
     },
     "metadata": {
      "needs_background": "light"
     },
     "output_type": "display_data"
    }
   ],
   "source": [
    "# visualise the seed matrix\n",
    "subax1 = plt.subplot(121)\n",
    "plt.imshow(Aseed)\n",
    "plt.xlabel('Node')\n",
    "plt.ylabel('Node')\n",
    "# visualise the target matrix\n",
    "subax1 = plt.subplot(122)\n",
    "plt.imshow(Atgt)\n",
    "plt.xlabel('Node')\n",
    "plt.ylabel('Node')"
   ]
  },
  {
   "cell_type": "code",
   "execution_count": 10,
   "metadata": {},
   "outputs": [
    {
     "name": "stderr",
     "output_type": "stream",
     "text": [
      "/home/da04/.conda/envs/weighted_generative_model/lib/python3.7/site-packages/brainconn/generative/generative.py:279: RuntimeWarning: divide by zero encountered in power\n",
      "  Fd = D**eta\n"
     ]
    }
   ],
   "source": [
    "# run and example binary generative model\n",
    "b = bct.generative.generative_model(Aseed, \n",
    "                     D, \n",
    "                     m, \n",
    "                     eta, \n",
    "                     gamma, \n",
    "                     model_type='matching',\n",
    "                     model_var='powerlaw', \n",
    "                     epsilon=1e-6, \n",
    "                     copy=True)"
   ]
  },
  {
   "cell_type": "code",
   "execution_count": 11,
   "metadata": {},
   "outputs": [
    {
     "data": {
      "text/plain": [
       "(9, 9)"
      ]
     },
     "execution_count": 11,
     "metadata": {},
     "output_type": "execute_result"
    },
    {
     "data": {
      "image/png": "[encoded data removed]",
      "text/plain": [
       "<Figure size 1080x360 with 3 Axes>"
      ]
     },
     "metadata": {
      "needs_background": "light"
     },
     "output_type": "display_data"
    }
   ],
   "source": [
    "# visualise the binary model\n",
    "# plot the outcome\n",
    "plt.figure(figsize=(15,5))\n",
    "subax1 = plt.subplot(131)\n",
    "plt.imshow(Aseed)\n",
    "subax2 = plt.subplot(132)\n",
    "plt.imshow(Atgt)\n",
    "subax2 = plt.subplot(133)\n",
    "plt.imshow(b)\n",
    "# display the number of edges in target and final network as a sanity check\n",
    "m,np.size(np.where(b.flat))//2 # number of connections"
   ]
  },
  {
   "cell_type": "code",
   "execution_count": 12,
   "metadata": {},
   "outputs": [],
   "source": [
    "# define objective function\n",
    "def objective_function(x):\n",
    "    # first goal is to minimize communicability\n",
    "    p = np.reshape(x,(nnode,nnode)) # reshape to a matrix form\n",
    "    com = scipy.linalg.expm(p) # communicability\n",
    "    sumcom = np.sum(com) # sum communicability\n",
    "    # second is to prioritise short edges\n",
    "    sumd = np.sum(D)\n",
    "    # return the product of both (update this)\n",
    "    return sumcom\n",
    "\n",
    "# set bounds\n",
    "lbunds = (0,np.inf) # set upper and lower bounds for all existing edges - note, that this could be the change\n",
    "bnds = ((lbunds,)*np.power(nnode,2)) \n",
    "bnds = np.array(bnds)\n",
    "bnds[b.flatten()==0] = (0,0) # set upper and lower bounds for all non-existing edges"
   ]
  },
  {
   "cell_type": "code",
   "execution_count": 13,
   "metadata": {},
   "outputs": [],
   "source": [
    "# strength = np.sum(A,axis=1) # get strength\n",
    "# neg_sqrt = np.power(strength,-0.5) # negative sqrt \n",
    "# S = np.diag(neg_sqrt) # diagonalise\n",
    "# X = S.dot(A).dot(S) # form power term\n",
    "# X = np.nan_to_num(X,nan=0) # ensure no nan values\n",
    "# com = scipy.linalg.expm(X) # normalised communicability\n",
    "# sumcom = np.sum(com) # sum normalised communicability"
   ]
  },
  {
   "cell_type": "code",
   "execution_count": 14,
   "metadata": {},
   "outputs": [
    {
     "name": "stdout",
     "output_type": "stream",
     "text": [
      "57.332929444334496\n"
     ]
    },
    {
     "data": {
      "image/png": "[encoded data removed]",
      "text/plain": [
       "<Figure size 432x288 with 2 Axes>"
      ]
     },
     "metadata": {
      "needs_background": "light"
     },
     "output_type": "display_data"
    }
   ],
   "source": [
    "# use an example\n",
    "plt.imshow(b)\n",
    "plt.colorbar()\n",
    "print(objective_function(b.flatten()))"
   ]
  },
  {
   "cell_type": "code",
   "execution_count": 15,
   "metadata": {},
   "outputs": [
    {
     "name": "stderr",
     "output_type": "stream",
     "text": [
      "/home/da04/.conda/envs/weighted_generative_model/lib/python3.7/site-packages/scipy/optimize/_numdiff.py:519: RuntimeWarning: invalid value encountered in true_divide\n",
      "  J_transposed[i] = df / dx\n"
     ]
    },
    {
     "name": "stdout",
     "output_type": "stream",
     "text": [
      "     fun: 57.332929444334496\n",
      "     jac: array([       nan,        nan, 4.23063278,        nan,        nan,\n",
      "              nan,        nan,        nan,        nan,        nan,\n",
      "              nan,        nan,        nan,        nan,        nan,\n",
      "              nan,        nan,        nan,        nan,        nan,\n",
      "              nan,        nan,        nan,        nan,        nan,\n",
      "              nan,        nan,        nan,        nan,        nan,\n",
      "              nan,        nan,        nan,        nan,        nan,\n",
      "              nan,        nan,        nan,        nan,        nan,\n",
      "       4.23063278,        nan,        nan,        nan,        nan,\n",
      "              nan, 4.23063231,        nan,        nan,        nan,\n",
      "              nan,        nan,        nan,        nan,        nan,\n",
      "              nan,        nan,        nan,        nan,        nan,\n",
      "              nan,        nan,        nan,        nan,        nan,\n",
      "              nan,        nan,        nan,        nan,        nan,\n",
      "              nan, 2.71828222,        nan,        nan,        nan,\n",
      "              nan,        nan,        nan,        nan,        nan,\n",
      "              nan,        nan,        nan,        nan,        nan,\n",
      "              nan,        nan, 4.23063278,        nan,        nan,\n",
      "              nan,        nan,        nan,        nan,        nan,\n",
      "              nan,        nan,        nan,        nan,        nan,\n",
      "              nan,        nan,        nan,        nan,        nan,\n",
      "              nan,        nan,        nan,        nan,        nan,\n",
      "              nan,        nan,        nan,        nan,        nan,\n",
      "       2.71828175,        nan,        nan,        nan,        nan,\n",
      "              nan,        nan, 4.23063278,        nan,        nan,\n",
      "              nan,        nan,        nan,        nan,        nan,\n",
      "              nan,        nan,        nan,        nan,        nan,\n",
      "              nan,        nan,        nan,        nan,        nan,\n",
      "              nan,        nan,        nan,        nan, 4.23063183,\n",
      "              nan,        nan,        nan,        nan,        nan,\n",
      "              nan,        nan,        nan,        nan,        nan,\n",
      "              nan,        nan,        nan,        nan, 4.23063231,\n",
      "              nan,        nan,        nan,        nan,        nan,\n",
      "              nan,        nan,        nan,        nan,        nan,\n",
      "       4.23063278,        nan,        nan,        nan,        nan,\n",
      "              nan,        nan,        nan,        nan,        nan,\n",
      "              nan,        nan,        nan,        nan,        nan,\n",
      "              nan,        nan,        nan,        nan,        nan,\n",
      "              nan,        nan,        nan,        nan,        nan,\n",
      "              nan,        nan,        nan,        nan,        nan,\n",
      "              nan,        nan,        nan,        nan,        nan,\n",
      "              nan,        nan,        nan, 4.23063231,        nan,\n",
      "              nan,        nan,        nan, 4.23063278,        nan,\n",
      "              nan,        nan,        nan,        nan,        nan,\n",
      "              nan,        nan,        nan, 2.71828222,        nan,\n",
      "              nan,        nan,        nan,        nan,        nan,\n",
      "              nan,        nan,        nan,        nan,        nan,\n",
      "              nan,        nan,        nan,        nan,        nan,\n",
      "              nan,        nan,        nan,        nan,        nan,\n",
      "              nan,        nan,        nan,        nan,        nan,\n",
      "              nan,        nan,        nan,        nan,        nan,\n",
      "              nan,        nan,        nan,        nan,        nan,\n",
      "              nan,        nan,        nan,        nan,        nan,\n",
      "              nan,        nan,        nan,        nan,        nan,\n",
      "       4.23063278,        nan,        nan,        nan,        nan,\n",
      "              nan,        nan,        nan,        nan,        nan,\n",
      "              nan,        nan,        nan,        nan,        nan,\n",
      "              nan,        nan,        nan,        nan,        nan,\n",
      "              nan,        nan,        nan,        nan,        nan,\n",
      "              nan,        nan,        nan, 2.71828222,        nan,\n",
      "              nan,        nan,        nan,        nan,        nan,\n",
      "       2.71828222,        nan,        nan,        nan,        nan,\n",
      "              nan,        nan,        nan,        nan,        nan,\n",
      "              nan,        nan,        nan,        nan,        nan,\n",
      "              nan,        nan,        nan,        nan,        nan,\n",
      "              nan,        nan,        nan,        nan,        nan,\n",
      "              nan,        nan,        nan,        nan,        nan,\n",
      "              nan,        nan,        nan,        nan,        nan,\n",
      "              nan,        nan,        nan,        nan,        nan,\n",
      "              nan,        nan,        nan,        nan,        nan,\n",
      "              nan,        nan,        nan,        nan,        nan,\n",
      "              nan,        nan,        nan,        nan,        nan,\n",
      "              nan,        nan,        nan,        nan,        nan,\n",
      "              nan,        nan,        nan,        nan,        nan,\n",
      "              nan,        nan,        nan,        nan, 2.71828222,\n",
      "              nan,        nan,        nan,        nan,        nan,\n",
      "              nan,        nan,        nan,        nan,        nan,\n",
      "              nan,        nan, 4.23063183,        nan,        nan,\n",
      "              nan,        nan,        nan,        nan,        nan,\n",
      "              nan,        nan,        nan,        nan,        nan])\n",
      " message: 'Inequality constraints incompatible'\n",
      "    nfev: 401\n",
      "     nit: 1\n",
      "    njev: 1\n",
      "  status: 4\n",
      " success: False\n",
      "       x: array([0., 0., 1., 0., 0., 0., 0., 0., 0., 0., 0., 0., 0., 0., 0., 0., 0.,\n",
      "       0., 0., 0., 0., 0., 0., 0., 0., 0., 0., 0., 0., 0., 0., 0., 0., 0.,\n",
      "       0., 0., 0., 0., 0., 0., 1., 0., 0., 0., 0., 0., 1., 0., 0., 0., 0.,\n",
      "       0., 0., 0., 0., 0., 0., 0., 0., 0., 0., 0., 0., 0., 0., 0., 0., 0.,\n",
      "       0., 0., 0., 1., 0., 0., 0., 0., 0., 0., 0., 0., 0., 0., 0., 0., 0.,\n",
      "       0., 0., 1., 0., 0., 0., 0., 0., 0., 0., 0., 0., 0., 0., 0., 0., 0.,\n",
      "       0., 0., 0., 0., 0., 0., 0., 0., 0., 0., 0., 0., 0., 1., 0., 0., 0.,\n",
      "       0., 0., 0., 1., 0., 0., 0., 0., 0., 0., 0., 0., 0., 0., 0., 0., 0.,\n",
      "       0., 0., 0., 0., 0., 0., 0., 0., 1., 0., 0., 0., 0., 0., 0., 0., 0.,\n",
      "       0., 0., 0., 0., 0., 0., 1., 0., 0., 0., 0., 0., 0., 0., 0., 0., 0.,\n",
      "       1., 0., 0., 0., 0., 0., 0., 0., 0., 0., 0., 0., 0., 0., 0., 0., 0.,\n",
      "       0., 0., 0., 0., 0., 0., 0., 0., 0., 0., 0., 0., 0., 0., 0., 0., 0.,\n",
      "       0., 0., 0., 0., 1., 0., 0., 0., 0., 1., 0., 0., 0., 0., 0., 0., 0.,\n",
      "       0., 0., 1., 0., 0., 0., 0., 0., 0., 0., 0., 0., 0., 0., 0., 0., 0.,\n",
      "       0., 0., 0., 0., 0., 0., 0., 0., 0., 0., 0., 0., 0., 0., 0., 0., 0.,\n",
      "       0., 0., 0., 0., 0., 0., 0., 0., 0., 0., 0., 0., 0., 0., 0., 1., 0.,\n",
      "       0., 0., 0., 0., 0., 0., 0., 0., 0., 0., 0., 0., 0., 0., 0., 0., 0.,\n",
      "       0., 0., 0., 0., 0., 0., 0., 0., 0., 1., 0., 0., 0., 0., 0., 0., 1.,\n",
      "       0., 0., 0., 0., 0., 0., 0., 0., 0., 0., 0., 0., 0., 0., 0., 0., 0.,\n",
      "       0., 0., 0., 0., 0., 0., 0., 0., 0., 0., 0., 0., 0., 0., 0., 0., 0.,\n",
      "       0., 0., 0., 0., 0., 0., 0., 0., 0., 0., 0., 0., 0., 0., 0., 0., 0.,\n",
      "       0., 0., 0., 0., 0., 0., 0., 0., 0., 0., 0., 0., 0., 0., 0., 0., 0.,\n",
      "       1., 0., 0., 0., 0., 0., 0., 0., 0., 0., 0., 0., 0., 1., 0., 0., 0.,\n",
      "       0., 0., 0., 0., 0., 0., 0., 0., 0.])\n"
     ]
    }
   ],
   "source": [
    "# run the optimizer\n",
    "solution = optimize.minimize(objective_function,\\\n",
    "                             b.flatten(),\\\n",
    "                             method='SLSQP',\\\n",
    "                             bounds=bnds)\n",
    "# print solution\n",
    "print(solution)"
   ]
  },
  {
   "cell_type": "code",
   "execution_count": 16,
   "metadata": {},
   "outputs": [
    {
     "data": {
      "text/plain": [
       "<matplotlib.colorbar.Colorbar at 0x7f373e7cc7b8>"
      ]
     },
     "execution_count": 16,
     "metadata": {},
     "output_type": "execute_result"
    },
    {
     "data": {
      "image/png": "[encoded data removed]",
      "text/plain": [
       "<Figure size 1080x360 with 6 Axes>"
      ]
     },
     "metadata": {
      "needs_background": "light"
     },
     "output_type": "display_data"
    }
   ],
   "source": [
    "# plot the nework, its optimisation and some weighted combination of the two\n",
    "plt.figure(figsize=(15,5))\n",
    "y = np.reshape(solution.x,(nnode,nnode))\n",
    "subax1 = plt.subplot(131)\n",
    "plt.imshow(b)\n",
    "plt.title('Simulation')\n",
    "plt.colorbar()\n",
    "subax2 = plt.subplot(132)\n",
    "plt.imshow(y)\n",
    "plt.title('Update')\n",
    "plt.colorbar()\n",
    "subax3 = plt.subplot(133)\n",
    "alpha = 0.5\n",
    "mm = b + alpha*y\n",
    "plt.imshow(mm)\n",
    "plt.colorbar()\n",
    "# note that the optimisation plateuas at the number of nodes! \n",
    "# This may give reason to think why we grow networks at all in the first place"
   ]
  },
  {
   "cell_type": "code",
   "execution_count": 17,
   "metadata": {},
   "outputs": [],
   "source": [
    "# initialise the weighted generative model\n",
    "alpha = .5 # set the learning rate [0 1]\n",
    "opt_thr = 10 # set the number of connections before optimisation starts\n",
    "mi, _, _ = bct.similarity.matching_ind(Aseed) # matching index of the seed\n",
    "Kseed = mi + mi.T # value matrix of the seed\n",
    "Kseed += epsilon # add epsilon\n",
    "mseed = np.size(np.where(Aseed.flat))//2 # compute the number of edges in the seed"
   ]
  },
  {
   "cell_type": "code",
   "execution_count": 18,
   "metadata": {},
   "outputs": [],
   "source": [
    "# define objective function wihin the generative model\n",
    "# define objective function\n",
    "def objective_function(x):\n",
    "    # first goal is to minimize communicability\n",
    "    p = np.reshape(x,(nnode,nnode)) # reshape to a matrix form\n",
    "    com = scipy.linalg.expm(p) # communicability\n",
    "    sumcom = np.sum(com) # sum communicability\n",
    "    # second is to prioritise short edges\n",
    "    sumd = np.sum(D)\n",
    "    # return the product of both (update this)\n",
    "    return sumcom\n",
    "\n",
    "# set bounds\n",
    "lbunds = (0,np.inf) # set upper and lower bounds for all existing edges - note, that this could be the change\n",
    "bnds = ((lbunds,)*np.power(nnode,2)) \n",
    "bnds = np.array(bnds)\n",
    "bnds[b.flatten()==0] = (0,0) # set upper and lower bounds for all non-existing edges"
   ]
  },
  {
   "cell_type": "code",
   "execution_count": 19,
   "metadata": {},
   "outputs": [
    {
     "name": "stdout",
     "output_type": "stream",
     "text": [
      "From 0 seed connections, adding 9 connections\n",
      "Simulation complete\n"
     ]
    },
    {
     "name": "stderr",
     "output_type": "stream",
     "text": [
      "/home/da04/.conda/envs/weighted_generative_model/lib/python3.7/site-packages/ipykernel_launcher.py:8: RuntimeWarning: divide by zero encountered in power\n",
      "  \n"
     ]
    }
   ],
   "source": [
    "# run an example generative model\n",
    "if type(model_var) == tuple:\n",
    "    mv1, mv2 = model_var\n",
    "else:\n",
    "    mv1, mv2 = model_var, model_var\n",
    "\n",
    "if mv1 in ('powerlaw', 'power_law'):\n",
    "    Fd = D**eta\n",
    "elif mv1 in ('exponential',):\n",
    "    Fd = np.exp(eta*D)\n",
    "\n",
    "if mv2 in ('powerlaw', 'power_law'):\n",
    "    Fk = Kseed**gamma\n",
    "elif mv2 in ('exponential',):\n",
    "    Fk = np.exp(gamma*Kseed)\n",
    "Ffseed = Fd * Fk * np.logical_not(Aseed)\n",
    "u, v = np.where(np.triu(np.ones((nnode, nnode)), 1)) # get all row column combinations\n",
    "A = copy.deepcopy(Aseed) # set the new variable\n",
    "K = copy.deepcopy(Kseed) # set the new variable\n",
    "Ff = copy.deepcopy(Ffseed) # set the new variable\n",
    "statement = \"From %g seed connections, adding %g connections\" % (mseed,m)\n",
    "print(statement)\n",
    "for ii in range(mseed,m):\n",
    "    C = np.append(0, np.cumsum(Ff[u, v]))\n",
    "    r = np.sum(np.random.random()*C[-1] >= C)\n",
    "    uu = u[r]\n",
    "    vv = v[r]\n",
    "    A[uu, vv] = A[vv, uu] = 1\n",
    "    updateuu, = np.where(np.inner(A, A[:, uu]))\n",
    "    np.delete(updateuu, np.where(updateuu == uu))\n",
    "    np.delete(updateuu, np.where(updateuu == vv))\n",
    "    c1 = np.append(A[:, uu], A[uu, :])\n",
    "    for i in range(len(updateuu)):\n",
    "        j = updateuu[i]\n",
    "        c2 = np.append(A[:, j], A[j, :])\n",
    "        \n",
    "        use = np.logical_or(c1, c2)\n",
    "        use[uu] = use[uu+nnode] = use[j] = use[j+nnode] = 0\n",
    "        ncon = np.sum(c1[use]) + np.sum(c2[use])\n",
    "        if ncon == 0:\n",
    "            K[uu, j] = K[j, uu] = epsilon\n",
    "        else:\n",
    "            K[uu, j] = K[j, uu] = (2 / ncon * np.sum(np.logical_and(c1[use],c2[use])) +epsilon)\n",
    "    updatevv, = np.where(np.inner(A, A[:, vv]))\n",
    "    np.delete(updatevv, np.where(updatevv == uu))\n",
    "    np.delete(updatevv, np.where(updatevv == vv))\n",
    "    c1 = np.append(A[:, vv], A[vv, :])\n",
    "    \n",
    "    for i in range(len(updatevv)):\n",
    "        j = updatevv[i]\n",
    "        c2 = np.append(A[:, j], A[j, :])\n",
    "\n",
    "        use = np.logical_or(c1, c2)\n",
    "        use[vv] = use[vv+nnode] = use[j] = use[j+nnode] = 0\n",
    "        ncon = np.sum(c1[use]) + np.sum(c2[use])\n",
    "        if ncon == 0:\n",
    "            K[vv, j] = K[j, vv] = epsilon\n",
    "        else:\n",
    "            K[vv, j] = K[j, vv] = (2 / ncon * np.sum(np.logical_and(c1[use],c2[use])) +epsilon)\n",
    "\n",
    "    Fffinal = Fd * Fk * np.logical_not(A)\n",
    "    \n",
    "    if ii==mseed: # only after the first edge has been added\n",
    "        W = copy.deepcopy(A)\n",
    "        \n",
    "    # add an optimisation step at a point in the simulation\n",
    "    if ii>=opt_thr:\n",
    "        solution = optimize.minimize(objective_function,\\\n",
    "                                     W.flatten(),\\\n",
    "                                     method='SLSQP',\\\n",
    "                                     bounds=bnds)\n",
    "        tgt = np.reshape(solution.x,(nnode,nnode))\n",
    "        W = W + alpha*tgt\n",
    "    \n",
    "print('Simulation complete')"
   ]
  },
  {
   "cell_type": "code",
   "execution_count": 20,
   "metadata": {},
   "outputs": [
    {
     "data": {
      "text/plain": [
       "(9, 9)"
      ]
     },
     "execution_count": 20,
     "metadata": {},
     "output_type": "execute_result"
    },
    {
     "data": {
      "image/png": "[encoded data removed]",
      "text/plain": [
       "<Figure size 1080x1080 with 11 Axes>"
      ]
     },
     "metadata": {
      "needs_background": "light"
     },
     "output_type": "display_data"
    }
   ],
   "source": [
    "# plot the outcome\n",
    "plt.figure(figsize=(15,15))\n",
    "subax1 = plt.subplot(321)\n",
    "plt.imshow(Aseed)\n",
    "plt.colorbar()\n",
    "subax2 = plt.subplot(322)\n",
    "plt.imshow(Ffseed)\n",
    "plt.colorbar()\n",
    "subax3 = plt.subplot(323)\n",
    "plt.imshow(A)\n",
    "plt.colorbar()\n",
    "subax4 = plt.subplot(324)\n",
    "plt.imshow(Fffinal)\n",
    "plt.colorbar()\n",
    "subax5 = plt.subplot(325)\n",
    "plt.imshow(W)\n",
    "plt.colorbar()\n",
    "subax6 = plt.subplot(326)\n",
    "plt.hist(W)\n",
    "plt.xlabel('Weight, w')\n",
    "plt.ylabel('Frequency')\n",
    "plt.title('Weight distribution')\n",
    "subax6.spines['top'].set_visible(False)\n",
    "subax6.spines['right'].set_visible(False)\n",
    "# display the number of edges in target and final network as a sanity check\n",
    "m,np.size(np.where(A.flat))//2 # number of connections"
   ]
  }
 ],
 "metadata": {
  "kernelspec": {
   "display_name": "Python 3",
   "language": "python",
   "name": "python3"
  },
  "language_info": {
   "codemirror_mode": {
    "name": "ipython",
    "version": 3
   },
   "file_extension": ".py",
   "mimetype": "text/x-python",
   "name": "python",
   "nbconvert_exporter": "python",
   "pygments_lexer": "ipython3",
   "version": "3.7.3"
  }
 },
 "nbformat": 4,
 "nbformat_minor": 2
}
