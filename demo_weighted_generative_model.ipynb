{
 "cells": [
  {
   "cell_type": "markdown",
   "metadata": {},
   "source": [
    "# Demo of a weighted generative model\n",
    "An example weighted generative model implementation"
   ]
  },
  {
   "cell_type": "code",
   "execution_count": 1,
   "metadata": {},
   "outputs": [],
   "source": [
    "# ensure that this is within the weighted_generative_model environment (and imaging space)\n",
    "# import requirements\n",
    "import os\n",
    "import numpy as np\n",
    "import scipy\n",
    "import networkx as nx\n",
    "import bct as bctpy\n",
    "import matplotlib.pyplot as plt\n",
    "import pylab\n",
    "import copy\n",
    "import random\n",
    "from mpl_toolkits.mplot3d import Axes3D\n",
    "# change to project directory\n",
    "os.chdir('/imaging/astle/users/da04/Postdoc/weighted_gm/weighted_generative_models')"
   ]
  },
  {
   "cell_type": "code",
   "execution_count": 2,
   "metadata": {},
   "outputs": [],
   "source": [
    "# set network variables\n",
    "nnode = 60 # number of nodes\n",
    "xnode = 10 # x axis\n",
    "ynode = 2 # y axis\n",
    "znode = 3 # z axis\n",
    "# compute inputs\n",
    "Atgt = np.tril(np.random.randint(0,100,(nnode,nnode)),-1)\n",
    "Atgt = (Atgt+Atgt.T)\n",
    "threshold, upper, lower = 90,1,0\n",
    "Atgt = np.where(Atgt>threshold,upper,lower)\n",
    "Aseed = np.zeros((nnode,nnode)) # seed the seed as a random edge that exists\n",
    "#ind = np.argwhere(Atgt)\n",
    "#indedge = ind[random.randrange(len(ind)),:]\n",
    "#Aseed[indedge[0],indedge[1]] = Aseed[indedge[1],indedge[0]] = 1\n",
    "x = np.arange(xnode) # set the x axis\n",
    "y = np.arange(ynode) # set the y axis\n",
    "z = np.arange(znode) # set the z axis\n",
    "c = np.array(np.meshgrid(x,y,z)).T.reshape(-1,3) # placed in a grid\n",
    "d = scipy.spatial.distance.pdist(c)\n",
    "D = scipy.spatial.distance.squareform(d) # euclidean distance matrix\n",
    "m = int(np.size(np.where(Atgt.flat))/2) # number of connections\n",
    "eta = -2 # eta parameter\n",
    "gamma = .5 # gamma parameter\n",
    "nparams = 1 # number of parameters\n",
    "model_type = 'matching' # generative model\n",
    "model_var = 'powerlaw' # wiring equation\n",
    "epsilon = 1e-6"
   ]
  },
  {
   "cell_type": "code",
   "execution_count": 3,
   "metadata": {},
   "outputs": [
    {
     "data": {
      "text/plain": [
       "Text(0, 0.5, 'Node')"
      ]
     },
     "execution_count": 3,
     "metadata": {},
     "output_type": "execute_result"
    },
    {
     "data": {
      "image/png": "[encoded data removed]",
      "text/plain": [
       "<Figure size 432x288 with 2 Axes>"
      ]
     },
     "metadata": {
      "needs_background": "light"
     },
     "output_type": "display_data"
    }
   ],
   "source": [
    "# visualise the seed matrix\n",
    "subax1 = plt.subplot(121)\n",
    "plt.imshow(Aseed)\n",
    "plt.xlabel('Node')\n",
    "plt.ylabel('Node')\n",
    "# visualise the target matrix\n",
    "subax1 = plt.subplot(122)\n",
    "plt.imshow(Atgt)\n",
    "plt.xlabel('Node')\n",
    "plt.ylabel('Node')"
   ]
  },
  {
   "cell_type": "code",
   "execution_count": 4,
   "metadata": {},
   "outputs": [],
   "source": [
    "# define the matching index\n",
    "def matching_ind(CIJ):\n",
    "\n",
    "    n = len(CIJ)\n",
    "\n",
    "    Min = np.zeros((n, n))\n",
    "    Mout = np.zeros((n, n))\n",
    "    Mall = np.zeros((n, n))\n",
    "\n",
    "    # compare incoming connections\n",
    "    for i in range(n - 1):\n",
    "        for j in range(i + 1, n):\n",
    "            c1i = CIJ[:, i]\n",
    "            c2i = CIJ[:, j]\n",
    "            usei = np.logical_or(c1i, c2i)\n",
    "            usei[i] = 0\n",
    "            usei[j] = 0\n",
    "            nconi = np.sum(c1i[usei]) + np.sum(c2i[usei])\n",
    "            if not nconi:\n",
    "                Min[i, j] = 0\n",
    "            else:\n",
    "                Min[i, j] = 2 * \\\n",
    "                    np.sum(np.logical_and(c1i[usei], c2i[usei])) / nconi\n",
    "\n",
    "            c1o = CIJ[i, :]\n",
    "            c2o = CIJ[j, :]\n",
    "            useo = np.logical_or(c1o, c2o)\n",
    "            useo[i] = 0\n",
    "            useo[j] = 0\n",
    "            ncono = np.sum(c1o[useo]) + np.sum(c2o[useo])\n",
    "            if not ncono:\n",
    "                Mout[i, j] = 0\n",
    "            else:\n",
    "                Mout[i, j] = 2 * \\\n",
    "                    np.sum(np.logical_and(c1o[useo], c2o[useo])) / ncono\n",
    "\n",
    "            c1a = np.ravel((c1i, c1o))\n",
    "            c2a = np.ravel((c2i, c2o))\n",
    "            usea = np.logical_or(c1a, c2a)\n",
    "            usea[i] = 0\n",
    "            usea[i + n] = 0\n",
    "            usea[j] = 0\n",
    "            usea[j + n] = 0\n",
    "            ncona = np.sum(c1a[usea]) + np.sum(c2a[usea])\n",
    "            if not ncona:\n",
    "                Mall[i, j] = 0\n",
    "            else:\n",
    "                Mall[i, j] = 2 * \\\n",
    "                    np.sum(np.logical_and(c1a[usea], c2a[usea])) / ncona\n",
    "\n",
    "    Min = Min + Min.T\n",
    "    Mout = Mout + Mout.T\n",
    "    Mall = Mall + Mall.T\n",
    "\n",
    "    return Min, Mout, Mall"
   ]
  },
  {
   "cell_type": "code",
   "execution_count": 5,
   "metadata": {},
   "outputs": [],
   "source": [
    "# initialise the generative model\n",
    "alpha = 100 # set the update rate\n",
    "nopt = 10 # set number of gradient jumps\n",
    "mi, _, _ = matching_ind(Aseed) # matching index of the seed\n",
    "Kseed = mi + mi.T # value matrix of the seed\n",
    "Kseed += epsilon # add epsilon\n",
    "mseed = np.size(np.where(Aseed.flat))//2 # compute the number of edges in the seed"
   ]
  },
  {
   "cell_type": "code",
   "execution_count": 6,
   "metadata": {},
   "outputs": [
    {
     "name": "stderr",
     "output_type": "stream",
     "text": [
      "/home/da04/.conda/envs/weighted_generative_model/lib/python3.7/site-packages/ipykernel_launcher.py:8: RuntimeWarning: divide by zero encountered in power\n",
      "  \n"
     ]
    }
   ],
   "source": [
    "# run a single edge example\n",
    "if type(model_var) == tuple:\n",
    "    mv1, mv2 = model_var\n",
    "else:\n",
    "    mv1, mv2 = model_var, model_var\n",
    "\n",
    "if mv1 in ('powerlaw', 'power_law'):\n",
    "    Fd = D**eta\n",
    "elif mv1 in ('exponential',):\n",
    "    Fd = np.exp(eta*D)\n",
    "\n",
    "if mv2 in ('powerlaw', 'power_law'):\n",
    "    Fk = Kseed**gamma\n",
    "elif mv2 in ('exponential',):\n",
    "    Fk = np.exp(gamma*Kseed)\n",
    "Ffseed = Fd * Fk * np.logical_not(Aseed)\n",
    "u, v = np.where(np.triu(np.ones((nnode, nnode)), 1)) # get all row column combinations\n",
    "A = copy.deepcopy(Aseed) # set the new variable\n",
    "K = copy.deepcopy(Kseed) # set the new variable\n",
    "Ff = copy.deepcopy(Ffseed) # set the new variable\n",
    "for ii in range(mseed,m):\n",
    "    C = np.append(0, np.cumsum(Ff[u, v]))\n",
    "    r = np.sum(np.random.random()*C[-1] >= C)\n",
    "    uu = u[r]\n",
    "    vv = v[r]\n",
    "    A[uu, vv] = A[vv, uu] = 1\n",
    "    updateuu, = np.where(np.inner(A, A[:, uu]))\n",
    "    np.delete(updateuu, np.where(updateuu == uu))\n",
    "    np.delete(updateuu, np.where(updateuu == vv))\n",
    "    c1 = np.append(A[:, uu], A[uu, :])\n",
    "    for i in range(len(updateuu)):\n",
    "        j = updateuu[i]\n",
    "        c2 = np.append(A[:, j], A[j, :])\n",
    "\n",
    "        use = np.logical_or(c1, c2)\n",
    "        use[uu] = use[uu+nnode] = use[j] = use[j+nnode] = 0\n",
    "        ncon = np.sum(c1[use]) + np.sum(c2[use])\n",
    "        if ncon == 0:\n",
    "            K[uu, j] = K[j, uu] = epsilon\n",
    "        else:\n",
    "            K[uu, j] = K[j, uu] = (2 / ncon * np.sum(np.logical_and(c1[use],c2[use])) +epsilon)\n",
    "    updatevv, = np.where(np.inner(A, A[:, vv]))\n",
    "    np.delete(updatevv, np.where(updatevv == uu))\n",
    "    np.delete(updatevv, np.where(updatevv == vv))\n",
    "    c1 = np.append(A[:, vv], A[vv, :])\n",
    "    \n",
    "    for i in range(len(updatevv)):\n",
    "        j = updatevv[i]\n",
    "        c2 = np.append(A[:, j], A[j, :])\n",
    "\n",
    "        use = np.logical_or(c1, c2)\n",
    "        use[vv] = use[vv+nnode] = use[j] = use[j+nnode] = 0\n",
    "        ncon = np.sum(c1[use]) + np.sum(c2[use])\n",
    "        if ncon == 0:\n",
    "            K[vv, j] = K[j, vv] = epsilon\n",
    "        else:\n",
    "            K[vv, j] = K[j, vv] = (2 / ncon * np.sum(np.logical_and(c1[use],c2[use])) +epsilon)\n",
    "\n",
    "    Fffinal = Fd * Fk * np.logical_not(A)\n",
    "    # add an optimisation step\n",
    "    com = scipy.linalg.expm(A) # compute communicability\n",
    "    sumcom = np.sum(com) # sum communicability\n",
    "    for j in range(nopt): # nopt number of optimisation steps\n",
    "        grad = np.gradient(A,sumcom) # compute the gradient\n",
    "        W = A + alpha*grad[1] # walk down the gradient\n",
    "        W[W<0] = 0 # limit to optimise positive weights"
   ]
  },
  {
   "cell_type": "code",
   "execution_count": 7,
   "metadata": {},
   "outputs": [
    {
     "data": {
      "text/plain": [
       "(149, 131)"
      ]
     },
     "execution_count": 7,
     "metadata": {},
     "output_type": "execute_result"
    },
    {
     "data": {
      "image/png": "[encoded data removed]",
      "text/plain": [
       "<Figure size 1080x360 with 6 Axes>"
      ]
     },
     "metadata": {
      "needs_background": "light"
     },
     "output_type": "display_data"
    }
   ],
   "source": [
    "# plot the outcome\n",
    "plt.figure(figsize=(15,5))\n",
    "subax1 = plt.subplot(241)\n",
    "plt.imshow(Aseed)\n",
    "subax2 = plt.subplot(242)\n",
    "plt.imshow(Ffseed)\n",
    "subax3 = plt.subplot(243)\n",
    "plt.imshow(A)\n",
    "subax4 = plt.subplot(244)\n",
    "plt.imshow(Fffinal)\n",
    "subax5 = plt.subplot(245)\n",
    "plt.imshow(W)\n",
    "subax6 = plt.subplot(246)\n",
    "plt.hist(W)\n",
    "# display the number of edges in target and final network as a sanity check\n",
    "m,np.size(np.where(A.flat))//2 # number of connections"
   ]
  },
  {
   "cell_type": "code",
   "execution_count": 8,
   "metadata": {},
   "outputs": [],
   "source": [
    "# work out various communicability measures\n",
    "AsynthCom = scipy.linalg.expm(Atgt) # compute communicability <- must soften the influence here as will explode\n",
    "SumCom = np.sum(Atgt) # global communicability\n",
    "grad = np.gradient(Atgt,SumCom) # compute gradient\n",
    "update = grad[0]\n",
    "alpha = 10 # set the learning rate\n",
    "Atgt = Atgt + alpha*update # update the original matrix"
   ]
  }
 ],
 "metadata": {
  "kernelspec": {
   "display_name": "Python 3",
   "language": "python",
   "name": "python3"
  },
  "language_info": {
   "codemirror_mode": {
    "name": "ipython",
    "version": 3
   },
   "file_extension": ".py",
   "mimetype": "text/x-python",
   "name": "python",
   "nbconvert_exporter": "python",
   "pygments_lexer": "ipython3",
   "version": "3.7.3"
  }
 },
 "nbformat": 4,
 "nbformat_minor": 2
}
