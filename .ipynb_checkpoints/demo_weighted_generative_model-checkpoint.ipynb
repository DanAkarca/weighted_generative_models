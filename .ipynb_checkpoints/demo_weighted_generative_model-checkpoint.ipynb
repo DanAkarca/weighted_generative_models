{
 "cells": [
  {
   "cell_type": "markdown",
   "metadata": {},
   "source": [
    "# Demo of a weighted generative model\n",
    "An example weighted generative model implementation"
   ]
  },
  {
   "cell_type": "code",
   "execution_count": 52,
   "metadata": {},
   "outputs": [],
   "source": [
    "# ensure that this is within the weighted_generative_model environment (and imaging space)\n",
    "# import requirements\n",
    "import os\n",
    "import numpy as np\n",
    "import scipy\n",
    "import networkx as nx\n",
    "import bct as bctpy\n",
    "import matplotlib.pyplot as plt\n",
    "# change to project directory\n",
    "os.chdir('/imaging/astle/users/da04/Postdoc/weighted_gm/weighted_generative_models')"
   ]
  },
  {
   "cell_type": "code",
   "execution_count": 53,
   "metadata": {},
   "outputs": [],
   "source": [
    "# set network variables\n",
    "nnode = 100 # number of nodes\n",
    "xnode = 5 # x axis\n",
    "ynode = 5 # y axis\n",
    "znode = 4 # z axis\n",
    "# compute inputs\n",
    "W = np.random.rand(nnode,nnode) # random network\n",
    "W = W+W.T # made symmetrical\n",
    "W = np.divide(W,2)\n",
    "threshold, upper, lower = .9,1,0 # binarised\n",
    "Atgt = np.where(W>threshold,upper,lower)\n",
    "Aseed = np.zeros(nnode) # seed the seed\n",
    "x = np.arange(xnode)\n",
    "y = np.arange(ynode)\n",
    "z = np.arange(znode)\n",
    "c = np.array(np.meshgrid(x,y,z)).T.reshape(-1,3) # placed in a grid\n",
    "d = scipy.spatial.distance.pdist(c)\n",
    "D = scipy.spatial.distance.squareform(d) # euclidean distance matrix\n",
    "m = np.count_nonzero(A) # number of connections\n",
    "eta = -2 # eta parameter\n",
    "gamma = .5 # gamma parameter\n",
    "nparas = 1 # number of parameters\n",
    "model_type = 'matching' # generative model\n",
    "model_var = 'powerlaw' # wiring equation\n",
    "epsilon = 1e-6"
   ]
  },
  {
   "cell_type": "code",
   "execution_count": 58,
   "metadata": {},
   "outputs": [
    {
     "ename": "NameError",
     "evalue": "name 'G' is not defined",
     "output_type": "error",
     "traceback": [
      "\u001b[0;31m---------------------------------------------------------------------------\u001b[0m",
      "\u001b[0;31mNameError\u001b[0m                                 Traceback (most recent call last)",
      "\u001b[0;32m<ipython-input-58-b3d22ca1e56f>\u001b[0m in \u001b[0;36m<module>\u001b[0;34m\u001b[0m\n\u001b[1;32m      4\u001b[0m \u001b[0mplt\u001b[0m\u001b[0;34m.\u001b[0m\u001b[0mfigure\u001b[0m\u001b[0;34m(\u001b[0m\u001b[0mfigsize\u001b[0m\u001b[0;34m=\u001b[0m\u001b[0;34m(\u001b[0m\u001b[0;36m15\u001b[0m\u001b[0;34m,\u001b[0m\u001b[0;36m5\u001b[0m\u001b[0;34m)\u001b[0m\u001b[0;34m)\u001b[0m\u001b[0;34m\u001b[0m\u001b[0;34m\u001b[0m\u001b[0m\n\u001b[1;32m      5\u001b[0m \u001b[0msubax1\u001b[0m \u001b[0;34m=\u001b[0m \u001b[0mplt\u001b[0m\u001b[0;34m.\u001b[0m\u001b[0msubplot\u001b[0m\u001b[0;34m(\u001b[0m\u001b[0;36m231\u001b[0m\u001b[0;34m)\u001b[0m\u001b[0;34m\u001b[0m\u001b[0;34m\u001b[0m\u001b[0m\n\u001b[0;32m----> 6\u001b[0;31m \u001b[0mnx\u001b[0m\u001b[0;34m.\u001b[0m\u001b[0mdraw\u001b[0m\u001b[0;34m(\u001b[0m\u001b[0mG\u001b[0m\u001b[0;34m,\u001b[0m\u001b[0mnode_color\u001b[0m\u001b[0;34m=\u001b[0m\u001b[0;34m'r'\u001b[0m\u001b[0;34m,\u001b[0m\u001b[0medge_color\u001b[0m\u001b[0;34m=\u001b[0m\u001b[0;34m'k'\u001b[0m\u001b[0;34m)\u001b[0m\u001b[0;34m\u001b[0m\u001b[0;34m\u001b[0m\u001b[0m\n\u001b[0m\u001b[1;32m      7\u001b[0m \u001b[0;31m# visualise the seed matrix\u001b[0m\u001b[0;34m\u001b[0m\u001b[0;34m\u001b[0m\u001b[0;34m\u001b[0m\u001b[0m\n\u001b[1;32m      8\u001b[0m \u001b[0msubax2\u001b[0m \u001b[0;34m=\u001b[0m \u001b[0mplt\u001b[0m\u001b[0;34m.\u001b[0m\u001b[0msubplot\u001b[0m\u001b[0;34m(\u001b[0m\u001b[0;36m232\u001b[0m\u001b[0;34m)\u001b[0m\u001b[0;34m\u001b[0m\u001b[0;34m\u001b[0m\u001b[0m\n",
      "\u001b[0;31mNameError\u001b[0m: name 'G' is not defined"
     ]
    },
    {
     "data": {
      "image/png": "[encoded data removed]",
      "text/plain": [
       "<Figure size 1080x360 with 1 Axes>"
      ]
     },
     "metadata": {
      "needs_background": "light"
     },
     "output_type": "display_data"
    }
   ],
   "source": [
    "# visualise the model variables\n",
    "# target network\n",
    "Atgt = nx.Graph(Atgt)\n",
    "plt.figure(figsize=(15,5))\n",
    "subax1 = plt.subplot(231)\n",
    "nx.draw(G,node_color='r',edge_color='k')\n",
    "# visualise the seed matrix\n",
    "subax2 = plt.subplot(232)\n",
    "plt.imshow(Aseed)\n",
    "plt.xlabel('Node')\n",
    "plt.ylabel('Node')\n",
    "# visualise the target matrix\n",
    "subax3 = plt.subplot(233)\n",
    "plt.imshow(Atgt)\n",
    "plt.xlabel('Node')\n",
    "plt.ylabel('Node')"
   ]
  },
  {
   "cell_type": "code",
   "execution_count": 54,
   "metadata": {},
   "outputs": [],
   "source": [
    "# definition of the matching index\n",
    "def matching_ind(CIJ):\n",
    "    \"\"\"\n",
    "    For any two nodes u and v, the matching index computes the amount of\n",
    "    overlap in the connection patterns of u and v. Self-connections and\n",
    "    u-v connections are ignored. The matching index is a symmetric\n",
    "    quantity, similar to a correlation or a dot product.\n",
    "\n",
    "    Parameters\n",
    "    ----------\n",
    "    CIJ : NxN :obj:`numpy.ndarray`\n",
    "        adjacency matrix\n",
    "\n",
    "    Returns\n",
    "    -------\n",
    "    Min : NxN :obj:`numpy.ndarray`\n",
    "        matching index for incoming connections\n",
    "    Mout : NxN :obj:`numpy.ndarray`\n",
    "        matching index for outgoing connections\n",
    "    Mall : NxN :obj:`numpy.ndarray`\n",
    "        matching index for all connections\n",
    "\n",
    "    Notes\n",
    "    -----\n",
    "    Does not use self- or cross connections for comparison.\n",
    "    Does not use connections that are not present in BOTH u and v.\n",
    "    All output matrices are calculated for upper triangular only.\n",
    "    \"\"\"\n",
    "    n = len(CIJ)\n",
    "\n",
    "    Min = np.zeros((n, n))\n",
    "    Mout = np.zeros((n, n))\n",
    "    Mall = np.zeros((n, n))\n",
    "\n",
    "    # compare incoming connections\n",
    "    for i in range(n - 1):\n",
    "        for j in range(i + 1, n):\n",
    "            c1i = CIJ[:, i]\n",
    "            c2i = CIJ[:, j]\n",
    "            usei = np.logical_or(c1i, c2i)\n",
    "            usei[i] = 0\n",
    "            usei[j] = 0\n",
    "            nconi = np.sum(c1i[usei]) + np.sum(c2i[usei])\n",
    "            if not nconi:\n",
    "                Min[i, j] = 0\n",
    "            else:\n",
    "                Min[i, j] = 2 * \\\n",
    "                    np.sum(np.logical_and(c1i[usei], c2i[usei])) / nconi\n",
    "\n",
    "            c1o = CIJ[i, :]\n",
    "            c2o = CIJ[j, :]\n",
    "            useo = np.logical_or(c1o, c2o)\n",
    "            useo[i] = 0\n",
    "            useo[j] = 0\n",
    "            ncono = np.sum(c1o[useo]) + np.sum(c2o[useo])\n",
    "            if not ncono:\n",
    "                Mout[i, j] = 0\n",
    "            else:\n",
    "                Mout[i, j] = 2 * \\\n",
    "                    np.sum(np.logical_and(c1o[useo], c2o[useo])) / ncono\n",
    "\n",
    "            c1a = np.ravel((c1i, c1o))\n",
    "            c2a = np.ravel((c2i, c2o))\n",
    "            usea = np.logical_or(c1a, c2a)\n",
    "            usea[i] = 0\n",
    "            usea[i + n] = 0\n",
    "            usea[j] = 0\n",
    "            usea[j + n] = 0\n",
    "            ncona = np.sum(c1a[usea]) + np.sum(c2a[usea])\n",
    "            if not ncona:\n",
    "                Mall[i, j] = 0\n",
    "            else:\n",
    "                Mall[i, j] = 2 * \\\n",
    "                    np.sum(np.logical_and(c1a[usea], c2a[usea])) / ncona\n",
    "\n",
    "    Min = Min + Min.T\n",
    "    Mout = Mout + Mout.T\n",
    "    Mall = Mall + Mall.T\n",
    "\n",
    "    return Min, Mout, Mall"
   ]
  },
  {
   "cell_type": "code",
   "execution_count": 57,
   "metadata": {},
   "outputs": [
    {
     "data": {
      "text/plain": [
       "array([[0.        , 0.28571429, 0.        , ..., 0.        , 0.4       ,\n",
       "        0.        ],\n",
       "       [0.28571429, 0.        , 0.        , ..., 0.        , 0.33333333,\n",
       "        0.        ],\n",
       "       [0.        , 0.        , 0.        , ..., 0.        , 0.        ,\n",
       "        0.        ],\n",
       "       ...,\n",
       "       [0.        , 0.        , 0.        , ..., 0.        , 0.        ,\n",
       "        0.        ],\n",
       "       [0.4       , 0.33333333, 0.        , ..., 0.        , 0.        ,\n",
       "        0.        ],\n",
       "       [0.        , 0.        , 0.        , ..., 0.        , 0.        ,\n",
       "        0.        ]])"
      ]
     },
     "execution_count": 57,
     "metadata": {},
     "output_type": "execute_result"
    }
   ],
   "source": [
    "# run the binary genreative model\n",
    "mi, _, _ = matching_ind(A) # compute the matching index on the seed matrix < upadte this as struggling with zeros\n",
    "Kseed = mi + mi.T # symmetrise\n",
    "mseed = np.size(np.where(Aseed.flat))//2 # number of connections in the seed"
   ]
  },
  {
   "cell_type": "code",
   "execution_count": null,
   "metadata": {},
   "outputs": [],
   "source": [
    "if type(model_var) == tuple:\n",
    "    mv1, mv2 = model_var\n",
    "else:\n",
    "    mv1, mv2 = model_var, model_var\n",
    "\n",
    "if mv1 in ('powerlaw', 'power_law'):\n",
    "    Fd = D**eta\n",
    "elif mv1 in ('exponential',):\n",
    "    Fd = np.exp(eta*D)\n",
    "\n",
    "if mv2 in ('powerlaw', 'power_law'):\n",
    "    Fk = K**gamma\n",
    "elif mv2 in ('exponential',):\n",
    "    Fk = np.exp(gamma*K)\n",
    "\n",
    "Ff = Fd * Fk * np.logical_not(A)\n",
    "u, v = np.where(np.triu(np.ones((nnode, nnode)), 1))"
   ]
  }
 ],
 "metadata": {
  "kernelspec": {
   "display_name": "Python 3",
   "language": "python",
   "name": "python3"
  },
  "language_info": {
   "codemirror_mode": {
    "name": "ipython",
    "version": 3
   },
   "file_extension": ".py",
   "mimetype": "text/x-python",
   "name": "python",
   "nbconvert_exporter": "python",
   "pygments_lexer": "ipython3",
   "version": "3.7.3"
  }
 },
 "nbformat": 4,
 "nbformat_minor": 2
}
